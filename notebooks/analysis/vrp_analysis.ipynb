{
 "cells": [
  {
   "cell_type": "markdown",
   "metadata": {},
   "source": [
    "# VRP Benchmark Analysis"
   ]
  },
  {
   "cell_type": "code",
   "execution_count": null,
   "metadata": {},
   "outputs": [],
   "source": [
    "import pandas as pd\n",
    "import json\n",
    "import matplotlib.pyplot as plt\n",
    "import seaborn as sns\n",
    "from pathlib import Path\n",
    "import sys\n",
    "\n",
    "# Add project root to sys.path to import common_analysis_functions\n",
    "root_dir = Path(__file__).resolve().parents[3] # Adjust path as needed\n",
    "sys.path.insert(0, str(root_dir))\n",
    "\n",
    "from notebooks.analysis.common_analysis_functions import load_benchmark_data, parse_json_columns, filter_optimal_solutions, plot_objective_distribution, plot_solve_time_distribution\n",
    "\n",
    "# Configuration\n",
    "VRP_BENCHMARK_FILE = 'benchmark/VRP/vrp_benchmark_10cust_2veh.csv'\n",
    "OUTPUT_PLOTS_DIR = 'results/vrp_analysis_plots'\n",
    "Path(OUTPUT_PLOTS_DIR).mkdir(parents=True, exist_ok=True)"
   ]
  },
  {
   "cell_type": "markdown",
   "metadata": {},
   "source": [
    "## 1. Load and Preprocess Data"
   ]
  },
  {
   "cell_type": "code",
   "execution_count": null,
   "metadata": {},
   "outputs": [],
   "source": [
    "vrp_df = load_benchmark_data(VRP_BENCHMARK_FILE)\n",
    "vrp_df = parse_json_columns(vrp_df, ['parameters', 'constraints', 'variables', 'modification'])\n",
    "\n",
    "print(\"\\nDataFrame Info:\")\n",
    "vrp_df.info()\n",
    "print(\"\\nFirst 5 rows:\")\n",
    "print(vrp_df.head())"
   ]
  },
  {
   "cell_type": "markdown",
   "metadata": {},
   "source": [
    "## 2. Overall Performance Analysis"
   ]
  },
  {
   "cell_type": "code",
   "execution_count": null,
   "metadata": {},
   "outputs": [],
   "source": [
    "# Filter for optimal solutions for objective/solve time analysis\n",
    "optimal_vrp_df = filter_optimal_solutions(vrp_df)\n",
    "\n",
    "if not optimal_vrp_df.empty:\n",
    "    print(\"\\nOptimal Solutions Summary:\")\n",
    "    print(optimal_vrp_df[['objective_value', 'pulp_model_execution_time']].describe())\n",
    "\n",
    "    plot_objective_distribution(optimal_vrp_df, title='VRP Objective Value Distribution (Optimal Solutions)',\n",
    "                                save_path=Path(OUTPUT_PLOTS_DIR) / 'vrp_objective_distribution.png')\n",
    "    plot_solve_time_distribution(optimal_vrp_df, title='VRP Solve Time Distribution (Optimal Solutions)',\n",
    "                                 save_path=Path(OUTPUT_PLOTS_DIR) / 'vrp_solve_time_distribution.png')\n",
    "else:\n",
    "    print(\"No optimal solutions found in the benchmark data for overall performance analysis.\")"
   ]
  },
  {
   "cell_type": "markdown",
   "metadata": {},
   "source": [
    "## 3. Scenario-Specific Analysis"
   ]
  },
  {
   "cell_type": "code",
   "execution_count": null,
   "metadata": {},
   "outputs": [],
   "source": [
    "# Example: Analyze impact of 'demand-increase-all' scenarios\n",
    "demand_increase_df = vrp_df[vrp_df['scenario_type'] == 'demand-increase-all'].copy()\n",
    "demand_increase_df['demand_pct_increase'] = demand_increase_df['modification'].apply(lambda x: x['ADD DATA'].split('/')[-1].replace(')', '') if isinstance(x, dict) and 'ADD DATA' in x else None).astype(float)\n",
    "\n",
    "if not demand_increase_df.empty:\n",
    "    plt.figure(figsize=(12, 7))\n",
    "    sns.lineplot(data=demand_increase_df, x='demand_pct_increase', y='objective_value', marker='o')\n",
    "    plt.title('Impact of Overall Demand Increase on Objective Value')\n",
    "    plt.xlabel('Percentage Increase in All Demands')\n",
    "    plt.ylabel('Objective Value')\n",
    "    plt.grid(True)\n",
    "    plt.savefig(Path(OUTPUT_PLOTS_DIR) / 'vrp_demand_increase_impact.png')\n",
    "    plt.close()\n",
    "else:\n",
    "    print(\"No 'demand-increase-all' scenarios found.\")"
   ]
  },
  {
   "cell_type": "markdown",
   "metadata": {},
   "source": [
    "## 4. Model-Specific Analysis: Route Analysis (Example)"
   ]
  },
  {
   "cell_type": "code",
   "execution_count": null,
   "metadata": {},
   "outputs": [],
   "source": [
    "def extract_routes(variables_dict, num_nodes):\n",
    "    routes = []\n",
    "    # Assuming 'x_i_j_k' variables for flow from i to j by vehicle k\n",
    "    # This is a simplified example and might need adjustment based on actual VRP model variable naming\n",
    "    \n",
    "    # For simplicity, let's just count active arcs for now\n",
    "    active_arcs = []\n",
    "    for var_name, var_value in variables_dict.items():\n",
    "        if var_name.startswith('x_') and var_value > 0.5:\n",
    "            try:\n",
    "                parts = var_name.split('_')\n",
    "                i = int(parts[1])\n",
    "                j = int(parts[2])\n",
    "                # k = int(parts[3]) # Vehicle index if needed\n",
    "                active_arcs.append((i, j))\n",
    "            except (ValueError, IndexError):\n",
    "                continue\n",
    "    return active_arcs\n",
    "\n",
    "# Example usage (requires 'variables' column to be parsed JSON)\n",
    "# This part needs actual VRP model variable structure to be precise\n",
    "# For now, just demonstrate how to access and potentially process 'variables'\n",
    "print(\"\\nExample: Accessing variables for route analysis (requires specific VRP model variable structure):\")\n",
    "if not optimal_vrp_df.empty:\n",
    "    sample_run = optimal_vrp_df.iloc[0]\n",
    "    if 'variables' in sample_run and isinstance(sample_run['variables'], dict):\n",
    "        # Assuming 'num_nodes' can be derived from parameters or data\n",
    "        # For VRP, num_nodes is len(data['distance'])\n",
    "        # You would need to pass the original data or derive num_nodes from parameters\n",
    "        # For this example, let's assume a fixed number of nodes for demonstration\n",
    "        num_nodes_example = 10 # Placeholder, replace with actual logic\n",
    "        # active_arcs = extract_routes(sample_run['variables'], num_nodes_example)\n",
    "        # print(f\"Active arcs in a sample optimal run: {active_arcs[:5]}...\")\n",
    "        print(\"Variables column contains dictionary. Further VRP-specific route analysis can be implemented here.\")\n",
    "    else:\n",
    "        print(\"Variables column is not in expected dictionary format or not present.\")\n",
    "else:\n",
    "    print(\"No optimal VRP solutions to analyze routes.\")"
   ]
  },
  {
   "cell_type": "markdown",
   "metadata": {},
   "source": [
    "## 5. Conclusion"
   ]
  },
  {
   "cell_type": "code",
   "execution_count": null,
   "metadata": {},
   "outputs": [],
   "source": [
    "print(\"VRP benchmark analysis complete. Plots saved to:\", OUTPUT_PLOTS_DIR)"
   ]
  }
 ],
 "metadata": {
  "kernelspec": {
   "display_name": "Python 3",
   "language": "python",
   "name": "python3"
  },
  "language_info": {
   "codemirror_mode": {
    "name": "ipython",
    "version": 3
   },
   "file_extension": ".py",
   "mimetype": "text/x-python",
   "name": "python",
   "nbconvert_exporter": "python",
   "pygments_lexer": "ipython3",
   "version": "3.8.10"
  }
 },
 "nbformat": 4,
 "nbformat_minor": 4
}
