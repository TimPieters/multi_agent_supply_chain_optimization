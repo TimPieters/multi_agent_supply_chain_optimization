{
 "cells": [
  {
   "cell_type": "markdown",
   "metadata": {},
   "source": [
    "# VRP Raw Data Exploration"
   ]
  },
  {
   "cell_type": "code",
   "execution_count": null,
   "metadata": {},
   "outputs": [],
   "source": [
    "import json\n",
    "from pathlib import Path\n",
    "import pandas as pd\n",
    "import matplotlib.pyplot as plt\n",
    "import seaborn as sns\n",
    "\n",
    "# Configuration\n",
    "VRP_DATA_FILE = 'models/VRP/data/vrp_data_10cust_2veh.json'"
   ]
  },
  {
   "cell_type": "markdown",
   "metadata": {},
   "source": [
    "## 1. Load Raw Data"
   ]
  },
  {
   "cell_type": "code",
   "execution_count": null,
   "metadata": {},
   "outputs": [],
   "source": [
    "try:\n",
    "    with open(VRP_DATA_FILE, 'r') as f:\n",
    "        vrp_raw_data = json.load(f)\n",
    "    print(f\"Successfully loaded raw VRP data from {VRP_DATA_FILE}\")\n",
    "    print(\"Keys available:\", vrp_raw_data.keys())\n",
    "except FileNotFoundError:\n",
    "    print(f\"Error: Data file not found at {VRP_DATA_FILE}\")\n",
    "    vrp_raw_data = {}\n",
    "except json.JSONDecodeError as e:\n",
    "    print(f\"Error decoding JSON from {VRP_DATA_FILE}: {e}\")\n",
    "    vrp_raw_data = {}"
   ]
  },
  {
   "cell_type": "markdown",
   "metadata": {},
   "source": [
    "## 2. Explore Data Structure and Contents"
   ]
  },
  {
   "cell_type": "code",
   "execution_count": null,
   "metadata": {},
   "outputs": [],
   "source": [
    "if vrp_raw_data:\n",
    "    print(\"\\nDistance Matrix (first 3x3):\")\n",
    "    if 'distance' in vrp_raw_data:\n",
    "        for i, row in enumerate(vrp_raw_data['distance']):\n",
    "            if i < 3:\n",
    "                print(row[:3])\n",
    "            else:\n",
    "                break\n",
    "    \n",
    "    print(\"\\nDemands:\", vrp_raw_data.get('demand'))\n",
    "    print(\"\\nVehicle Capacity:\", vrp_raw_data.get('vehicle_capacity'))\n",
    "    print(\"\\nNumber of Vehicles:\", vrp_raw_data.get('num_vehicles'))\n",
    "    print(\"\\nDepot Index:\", vrp_raw_data.get('depot'))\n",
    "    \n",
    "    print(f\"\\nNumber of Nodes (Customers + Depot): {len(vrp_raw_data.get('distance', []))}\")"
   ]
  },
  {
   "cell_type": "markdown",
   "metadata": {},
   "source": [
    "## 3. Basic Data Visualizations"
   ]
  },
  {
   "cell_type": "code",
   "execution_count": null,
   "metadata": {},
   "outputs": [],
   "source": [
    "if vrp_raw_data:\n",
    "    # Demands distribution\n",
    "    if 'demand' in vrp_raw_data and vrp_raw_data['demand']:\n",
    "        # Exclude depot demand if it's 0 or not relevant for distribution\n",
    "        customer_demands = [d for i, d in enumerate(vrp_raw_data['demand']) if i != vrp_raw_data.get('depot', -1)]\n",
    "        if customer_demands:\n",
    "            plt.figure(figsize=(8, 5))\n",
    "            sns.histplot(customer_demands, kde=True)\n",
    "            plt.title('Distribution of Customer Demands')\n",
    "            plt.xlabel('Demand Value')\n",
    "            plt.ylabel('Frequency')\n",
    "            plt.show()\n",
    "\n",
    "    # Distance matrix heatmap (if not too large)\n",
    "    if 'distance' in vrp_raw_data and vrp_raw_data['distance']:\n",
    "        dist_df = pd.DataFrame(vrp_raw_data['distance'])\n",
    "        if dist_df.shape[0] <= 20 and dist_df.shape[1] <= 20: # Limit for readability\n",
    "            plt.figure(figsize=(10, 8))\n",
    "            sns.heatmap(dist_df, annot=True, cmap='viridis', fmt=\".1f\")\n",
    "            plt.title('Distance Matrix Heatmap')\n",
    "            plt.xlabel('Node Index')\n",
    "            plt.ylabel('Node Index')\n",
    "            plt.show()\n",
    "        else:\n",
    "            print(\"Distance matrix too large for heatmap visualization.\")"
   ]
  }
 ],
 "metadata": {
  "kernelspec": {
   "display_name": "Python 3",
   "language": "python",
   "name": "python3"
  },
  "language_info": {
   "codemirror_mode": {
    "name": "ipython",
    "version": 3
   },
   "file_extension": ".py",
   "mimetype": "text/x-python",
   "name": "python",
   "nbconvert_exporter": "python",
   "pygments_lexer": "ipython3",
   "version": "3.8.10"
  }
 },
 "nbformat": 4,
 "nbformat_minor": 4
}
