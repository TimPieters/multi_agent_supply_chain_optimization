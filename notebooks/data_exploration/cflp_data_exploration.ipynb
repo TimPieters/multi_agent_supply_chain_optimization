{
 "cells": [
  {
   "cell_type": "markdown",
   "metadata": {},
   "source": [
    "# CFLP Raw Data Exploration"
   ]
  },
  {
   "cell_type": "code",
   "execution_count": 5,
   "metadata": {},
   "outputs": [
    {
     "name": "stdout",
     "output_type": "stream",
     "text": [
      "Current Working Directory: /home/timpi/Projects/thesis/multi_agent_supply_chain_optimization\n",
      "Plots will be saved to: results/cflp_raw_data_exploration_plots/10cust_10fac\n"
     ]
    }
   ],
   "source": [
    "import json\n",
    "from pathlib import Path\n",
    "import pandas as pd\n",
    "import matplotlib.pyplot as plt\n",
    "import seaborn as sns\n",
    "import os\n",
    "import re\n",
    "import numpy as np\n",
    "\n",
    "# Get the directory of the current notebook\n",
    "notebook_dir = os.path.dirname(os.path.abspath(\"__file__\"))\n",
    "# Set the working directory to the project root (one level up from the notebook directory)\n",
    "analysis_dir = os.path.join(notebook_dir, os.pardir)\n",
    "project_root = os.path.join(analysis_dir, os.pardir)\n",
    "os.chdir(project_root)\n",
    "\n",
    "# You can verify the new working directory\n",
    "print(f\"Current Working Directory: {os.getcwd()}\")\n",
    "\n",
    "# Configuration\n",
    "CFLP_DATA_FILE = 'models/CFLP/data/capfacloc_data_10cust_10fac.json'\n",
    "\n",
    "# Extract data configuration string (e.g., '10cust_10fac')\n",
    "data_config_match = re.search(r'capfacloc_data_([\\w_]+)\\.json', CFLP_DATA_FILE)\n",
    "data_config_str = data_config_match.group(1) if data_config_match else 'default'\n",
    "\n",
    "OUTPUT_PLOTS_DIR = Path(f'results/cflp_raw_data_exploration_plots/{data_config_str}')\n",
    "OUTPUT_PLOTS_DIR.mkdir(parents=True, exist_ok=True)\n",
    "\n",
    "print(f\"Plots will be saved to: {OUTPUT_PLOTS_DIR}\")"
   ]
  },
  {
   "cell_type": "markdown",
   "metadata": {},
   "source": [
    "## 1. Load Raw Data"
   ]
  },
  {
   "cell_type": "code",
   "execution_count": 6,
   "metadata": {},
   "outputs": [
    {
     "name": "stdout",
     "output_type": "stream",
     "text": [
      "Successfully loaded raw CFLP data from models/CFLP/data/capfacloc_data_10cust_10fac.json\n",
      "Keys available: dict_keys(['demands', 'capacities', 'fixed_costs', 'transportation_costs'])\n"
     ]
    }
   ],
   "source": [
    "try:\n",
    "    with open(CFLP_DATA_FILE, 'r') as f:\n",
    "        cflp_raw_data = json.load(f)\n",
    "    print(f\"Successfully loaded raw CFLP data from {CFLP_DATA_FILE}\")\n",
    "    print(\"Keys available:\", cflp_raw_data.keys())\n",
    "except FileNotFoundError:\n",
    "    print(f\"Error: Data file not found at {CFLP_DATA_FILE}\")\n",
    "    cflp_raw_data = {}\n",
    "except json.JSONDecodeError as e:\n",
    "    print(f\"Error decoding JSON from {CFLP_DATA_FILE}: {e}\")\n",
    "    cflp_raw_data = {}"
   ]
  },
  {
   "cell_type": "markdown",
   "metadata": {},
   "source": [
    "## 2. Explore Data Structure and Contents"
   ]
  },
  {
   "cell_type": "code",
   "execution_count": 7,
   "metadata": {},
   "outputs": [
    {
     "name": "stdout",
     "output_type": "stream",
     "text": [
      "\n",
      "Number of Customers: 10\n",
      "Number of Facilities: 10\n",
      "\n",
      "--- Demands ---\n",
      "Count: 10\n",
      "Min: 9.00, Max: 35.00, Avg: 21.00, Std: 9.64\n",
      "First 5 values: [15, 32, 9, 35, 33]\n",
      "\n",
      "--- Capacities ---\n",
      "Count: 10\n",
      "Min: 83.00, Max: 118.00, Avg: 102.50, Std: 11.48\n",
      "First 5 values: [98, 115, 87, 98, 105]\n",
      "\n",
      "--- Fixed Costs ---\n",
      "Count: 10\n",
      "Min: 152.00, Max: 195.00, Avg: 169.30, Std: 14.61\n",
      "First 5 values: [173, 154, 181, 157, 152]\n",
      "\n",
      "--- Transportation Costs ---\n",
      "Matrix Shape: (10x10)\n",
      "First 3x3 sub-matrix:\n",
      "['19.00', '17.00', '11.00']\n",
      "['16.00', '18.00', '15.00']\n",
      "['17.00', '13.00', '10.00']\n",
      "Min: 10.00, Max: 19.00, Avg: 14.54, Std: 2.83\n"
     ]
    }
   ],
   "source": [
    "if cflp_raw_data:\n",
    "    demands = cflp_raw_data.get('demands', [])\n",
    "    capacities = cflp_raw_data.get('capacities', [])\n",
    "    fixed_costs = cflp_raw_data.get('fixed_costs', [])\n",
    "    transportation_costs = cflp_raw_data.get('transportation_costs', [])\n",
    "\n",
    "    num_customers = len(demands)\n",
    "    num_facilities = len(capacities)\n",
    "\n",
    "    print(f\"\\nNumber of Customers: {num_customers}\")\n",
    "    print(f\"Number of Facilities: {num_facilities}\")\n",
    "\n",
    "    print(\"\\n--- Demands ---\")\n",
    "    print(f\"Count: {len(demands)}\")\n",
    "    if demands: print(f\"Min: {np.min(demands):.2f}, Max: {np.max(demands):.2f}, Avg: {np.mean(demands):.2f}, Std: {np.std(demands):.2f}\")\n",
    "    print(\"First 5 values:\", demands[:5])\n",
    "\n",
    "    print(\"\\n--- Capacities ---\")\n",
    "    print(f\"Count: {len(capacities)}\")\n",
    "    if capacities: print(f\"Min: {np.min(capacities):.2f}, Max: {np.max(capacities):.2f}, Avg: {np.mean(capacities):.2f}, Std: {np.std(capacities):.2f}\")\n",
    "    print(\"First 5 values:\", capacities[:5])\n",
    "\n",
    "    print(\"\\n--- Fixed Costs ---\")\n",
    "    print(f\"Count: {len(fixed_costs)}\")\n",
    "    if fixed_costs: print(f\"Min: {np.min(fixed_costs):.2f}, Max: {np.max(fixed_costs):.2f}, Avg: {np.mean(fixed_costs):.2f}, Std: {np.std(fixed_costs):.2f}\")\n",
    "    print(\"First 5 values:\", fixed_costs[:5])\n",
    "\n",
    "    print(\"\\n--- Transportation Costs ---\")\n",
    "    print(f\"Matrix Shape: ({len(transportation_costs)}x{len(transportation_costs[0]) if transportation_costs else 0})\")\n",
    "    if transportation_costs:\n",
    "        # Print a subset for large matrices\n",
    "        print(\"First 3x3 sub-matrix:\")\n",
    "        for i, row in enumerate(transportation_costs):\n",
    "            if i < 3:\n",
    "                print([f'{x:.2f}' for x in row[:3]])\n",
    "            else:\n",
    "                break\n",
    "        # Flatten for statistics\n",
    "        flat_tc = [item for sublist in transportation_costs for item in sublist]\n",
    "        if flat_tc: print(f\"Min: {np.min(flat_tc):.2f}, Max: {np.max(flat_tc):.2f}, Avg: {np.mean(flat_tc):.2f}, Std: {np.std(flat_tc):.2f}\")\n",
    "else:\n",
    "    print(\"No raw data loaded for exploration.\")"
   ]
  },
  {
   "cell_type": "markdown",
   "metadata": {},
   "source": [
    "## 3. Basic Data Visualizations"
   ]
  },
  {
   "cell_type": "code",
   "execution_count": 8,
   "metadata": {},
   "outputs": [
    {
     "name": "stdout",
     "output_type": "stream",
     "text": [
      "Plot saved: results/cflp_raw_data_exploration_plots/10cust_10fac/demands_distribution.png\n",
      "Plot saved: results/cflp_raw_data_exploration_plots/10cust_10fac/capacities_distribution.png\n",
      "Plot saved: results/cflp_raw_data_exploration_plots/10cust_10fac/fixed_costs_distribution.png\n",
      "Plot saved: results/cflp_raw_data_exploration_plots/10cust_10fac/transportation_costs_heatmap.png\n"
     ]
    }
   ],
   "source": [
    "if cflp_raw_data:\n",
    "    demands = cflp_raw_data.get('demands', [])\n",
    "    capacities = cflp_raw_data.get('capacities', [])\n",
    "    fixed_costs = cflp_raw_data.get('fixed_costs', [])\n",
    "    transportation_costs = cflp_raw_data.get('transportation_costs', [])\n",
    "\n",
    "    # Demands distribution\n",
    "    if demands:\n",
    "        plt.figure(figsize=(8, 5))\n",
    "        sns.histplot(demands, kde=True)\n",
    "        plt.title('Distribution of Demands')\n",
    "        plt.xlabel('Demand Value')\n",
    "        plt.ylabel('Frequency')\n",
    "        plt.savefig(OUTPUT_PLOTS_DIR / 'demands_distribution.png')\n",
    "        plt.close()\n",
    "        print(f\"Plot saved: {OUTPUT_PLOTS_DIR / 'demands_distribution.png'}\")\n",
    "\n",
    "    # Capacities distribution\n",
    "    if capacities:\n",
    "        plt.figure(figsize=(8, 5))\n",
    "        sns.histplot(capacities, kde=True, color='orange')\n",
    "        plt.title('Distribution of Capacities')\n",
    "        plt.xlabel('Capacity Value')\n",
    "        plt.ylabel('Frequency')\n",
    "        plt.savefig(OUTPUT_PLOTS_DIR / 'capacities_distribution.png')\n",
    "        plt.close()\n",
    "        print(f\"Plot saved: {OUTPUT_PLOTS_DIR / 'capacities_distribution.png'}\")\n",
    "\n",
    "    # Fixed Costs distribution\n",
    "    if fixed_costs:\n",
    "        plt.figure(figsize=(8, 5))\n",
    "        sns.histplot(fixed_costs, kde=True, color='green')\n",
    "        plt.title('Distribution of Fixed Costs')\n",
    "        plt.xlabel('Fixed Cost Value')\n",
    "        plt.ylabel('Frequency')\n",
    "        plt.savefig(OUTPUT_PLOTS_DIR / 'fixed_costs_distribution.png')\n",
    "        plt.close()\n",
    "        print(f\"Plot saved: {OUTPUT_PLOTS_DIR / 'fixed_costs_distribution.png'}\")\n",
    "\n",
    "    # Transportation Costs heatmap (if not too large)\n",
    "    if transportation_costs:\n",
    "        tc_df = pd.DataFrame(transportation_costs)\n",
    "        if tc_df.shape[0] <= 20 and tc_df.shape[1] <= 20: # Limit for readability\n",
    "            plt.figure(figsize=(10, 8))\n",
    "            sns.heatmap(tc_df, annot=True, cmap='viridis', fmt=\".1f\")\n",
    "            plt.title('Transportation Costs Heatmap')\n",
    "            plt.xlabel('Customer Index')\n",
    "            plt.ylabel('Facility Index')\n",
    "            plt.savefig(OUTPUT_PLOTS_DIR / 'transportation_costs_heatmap.png')\n",
    "            plt.close()\n",
    "            print(f\"Plot saved: {OUTPUT_PLOTS_DIR / 'transportation_costs_heatmap.png'}\")\n",
    "        else:\n",
    "            print(\"Transportation costs matrix too large for heatmap visualization. Plotting distribution instead.\")\n",
    "            # Plot distribution of flattened transportation costs\n",
    "            flat_tc = [item for sublist in transportation_costs for item in sublist]\n",
    "            if flat_tc:\n",
    "                plt.figure(figsize=(8, 5))\n",
    "                sns.histplot(flat_tc, kde=True, color='purple')\n",
    "                plt.title('Distribution of Transportation Costs')\n",
    "                plt.xlabel('Transportation Cost Value')\n",
    "                plt.ylabel('Frequency')\n",
    "                plt.savefig(OUTPUT_PLOTS_DIR / 'transportation_costs_distribution.png')\n",
    "                plt.close()\n",
    "                print(f\"Plot saved: {OUTPUT_PLOTS_DIR / 'transportation_costs_distribution.png'}\")\n",
    "else:\n",
    "    print(\"No raw data loaded for visualization.\")"
   ]
  },
  {
   "cell_type": "markdown",
   "metadata": {},
   "source": [
    "## 4. Conclusion"
   ]
  },
  {
   "cell_type": "code",
   "execution_count": 9,
   "metadata": {},
   "outputs": [
    {
     "name": "stdout",
     "output_type": "stream",
     "text": [
      "CFLP raw data exploration complete. Plots saved to: results/cflp_raw_data_exploration_plots/10cust_10fac\n"
     ]
    }
   ],
   "source": [
    "print(\"CFLP raw data exploration complete. Plots saved to:\", OUTPUT_PLOTS_DIR)"
   ]
  }
 ],
 "metadata": {
  "kernelspec": {
   "display_name": "base",
   "language": "python",
   "name": "python3"
  },
  "language_info": {
   "codemirror_mode": {
    "name": "ipython",
    "version": 3
   },
   "file_extension": ".py",
   "mimetype": "text/x-python",
   "name": "python",
   "nbconvert_exporter": "python",
   "pygments_lexer": "ipython3",
   "version": "3.11.9"
  }
 },
 "nbformat": 4,
 "nbformat_minor": 4
}
