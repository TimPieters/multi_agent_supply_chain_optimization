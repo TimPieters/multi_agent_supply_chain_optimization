{
 "cells": [
  {
   "cell_type": "markdown",
   "metadata": {},
   "source": [
    "# CFLP Raw Data Exploration"
   ]
  },
  {
   "cell_type": "code",
   "execution_count": null,
   "metadata": {},
   "outputs": [],
   "source": [
    "import json\n",
    "from pathlib import Path\n",
    "import pandas as pd\n",
    "import matplotlib.pyplot as plt\n",
    "import seaborn as sns\n",
    "\n",
    "# Configuration\n",
    "CFLP_DATA_FILE = 'models/CFLP/data/capfacloc_data_10cust_10fac.json'"
   ]
  },
  {
   "cell_type": "markdown",
   "metadata": {},
   "source": [
    "## 1. Load Raw Data"
   ]
  },
  {
   "cell_type": "code",
   "execution_count": null,
   "metadata": {},
   "outputs": [],
   "source": [
    "try:\n",
    "    with open(CFLP_DATA_FILE, 'r') as f:\n",
    "        cflp_raw_data = json.load(f)\n",
    "    print(f\"Successfully loaded raw CFLP data from {CFLP_DATA_FILE}\")\n",
    "    print(\"Keys available:\", cflp_raw_data.keys())\n",
    "except FileNotFoundError:\n",
    "    print(f\"Error: Data file not found at {CFLP_DATA_FILE}\")\n",
    "    cflp_raw_data = {}\n",
    "except json.JSONDecodeError as e:\n",
    "    print(f\"Error decoding JSON from {CFLP_DATA_FILE}: {e}\")\n",
    "    cflp_raw_data = {}"
   ]
  },
  {
   "cell_type": "markdown",
   "metadata": {},
   "source": [
    "## 2. Explore Data Structure and Contents"
   ]
  },
  {
   "cell_type": "code",
   "execution_count": null,
   "metadata": {},
   "outputs": [],
   "source": [
    "if cflp_raw_data:\n",
    "    print(\"\\nDemands:\", cflp_raw_data.get('demands'))\n",
    "    print(\"\\nCapacities:\", cflp_raw_data.get('capacities'))\n",
    "    print(\"\\nFixed Costs:\", cflp_raw_data.get('fixed_costs'))\n",
    "    print(\"\\nTransportation Costs (first 3x3):\")\n",
    "    # Print a subset for large matrices\n",
    "    if 'transportation_costs' in cflp_raw_data:\n",
    "        for i, row in enumerate(cflp_raw_data['transportation_costs']):\n",
    "            if i < 3:\n",
    "                print(row[:3])\n",
    "            else:\n",
    "                break\n",
    "    \n",
    "    print(f\"\\nNumber of Customers: {len(cflp_raw_data.get('demands', []))}\")\n",
    "    print(f\"Number of Facilities: {len(cflp_raw_data.get('capacities', []))}\")"
   ]
  },
  {
   "cell_type": "markdown",
   "metadata": {},
   "source": [
    "## 3. Basic Data Visualizations"
   ]
  },
  {
   "cell_type": "code",
   "execution_count": null,
   "metadata": {},
   "outputs": [],
   "source": [
    "if cflp_raw_data:\n",
    "    # Demands distribution\n",
    "    if 'demands' in cflp_raw_data and cflp_raw_data['demands']:\n",
    "        plt.figure(figsize=(8, 5))\n",
    "        sns.histplot(cflp_raw_data['demands'], kde=True)\n",
    "        plt.title('Distribution of Demands')\n",
    "        plt.xlabel('Demand Value')\n",
    "        plt.ylabel('Frequency')\n",
    "        plt.show()\n",
    "\n",
    "    # Capacities distribution\n",
    "    if 'capacities' in cflp_raw_data and cflp_raw_data['capacities']:\n",
    "        plt.figure(figsize=(8, 5))\n",
    "        sns.histplot(cflp_raw_data['capacities'], kde=True, color='orange')\n",
    "        plt.title('Distribution of Capacities')\n",
    "        plt.xlabel('Capacity Value')\n",
    "        plt.ylabel('Frequency')\n",
    "        plt.show()\n",
    "\n",
    "    # Fixed Costs distribution\n",
    "    if 'fixed_costs' in cflp_raw_data and cflp_raw_data['fixed_costs']:\n",
    "        plt.figure(figsize=(8, 5))\n",
    "        sns.histplot(cflp_raw_data['fixed_costs'], kde=True, color='green')\n",
    "        plt.title('Distribution of Fixed Costs')\n",
    "        plt.xlabel('Fixed Cost Value')\n",
    "        plt.ylabel('Frequency')\n",
    "        plt.show()\n",
    "\n",
    "    # Transportation Costs heatmap (if not too large)\n",
    "    if 'transportation_costs' in cflp_raw_data and cflp_raw_data['transportation_costs']:\n",
    "        tc_df = pd.DataFrame(cflp_raw_data['transportation_costs'])\n",
    "        if tc_df.shape[0] <= 20 and tc_df.shape[1] <= 20: # Limit for readability\n",
    "            plt.figure(figsize=(10, 8))\n",
    "            sns.heatmap(tc_df, annot=True, cmap='viridis', fmt=\".1f\")\n",
    "            plt.title('Transportation Costs Heatmap')\n",
    "            plt.xlabel('Customer Index')\n",
    "            plt.ylabel('Facility Index')\n",
    "            plt.show()\n",
    "        else:\n",
    "            print(\"Transportation costs matrix too large for heatmap visualization.\")"
   ]
  }
 ],
 "metadata": {
  "kernelspec": {
   "display_name": "Python 3",
   "language": "python",
   "name": "python3"
  },
  "language_info": {
   "codemirror_mode": {
    "name": "ipython",
    "version": 3
   },
   "file_extension": ".py",
   "mimetype": "text/x-python",
   "name": "python",
   "nbconvert_exporter": "python",
   "pygments_lexer": "ipython3",
   "version": "3.8.10"
  }
 },
 "nbformat": 4,
 "nbformat_minor": 4
}
